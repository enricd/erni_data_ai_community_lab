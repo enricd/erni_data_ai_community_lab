{
 "cells": [
  {
   "cell_type": "code",
   "execution_count": 6,
   "metadata": {},
   "outputs": [],
   "source": [
    "import numpy as np\n",
    "import random\n",
    "import os\n",
    "import matplotlib.pyplot as plt\n",
    "import torch\n",
    "import torch.nn as nn\n",
    "import torch.nn.functional as F\n",
    "from torch.utils.data import DataLoader, random_split\n",
    "from sklearn.datasets import fetch_openml\n",
    "from sklearn.model_selection import KFold"
   ]
  },
  {
   "cell_type": "code",
   "execution_count": 2,
   "metadata": {},
   "outputs": [
    {
     "data": {
      "text/plain": [
       "((70000, 28, 28), (70000,))"
      ]
     },
     "execution_count": 2,
     "metadata": {},
     "output_type": "execute_result"
    }
   ],
   "source": [
    "# ---- Data ----\n",
    "\n",
    "if not os.path.exists(\"train_data\"):\n",
    "    os.mkdir(\"train_data\")\n",
    "    mnist = fetch_openml(\"mnist_784\", version=1)\n",
    "    X, y = mnist[\"data\"].values.astype(float).reshape(-1, 28, 28) / 255., mnist[\"target\"].values.astype(int)\n",
    "    np.savez_compressed(\"data/mnist.npz\", X=X, y=y)\n",
    "\n",
    "X, Y = np.load(\"train_data/mnist.npz\").values()\n",
    "\n",
    "X.shape, Y.shape"
   ]
  },
  {
   "cell_type": "code",
   "execution_count": 3,
   "metadata": {},
   "outputs": [
    {
     "data": {
      "image/png": "[encoded data removed]",
      "text/plain": [
       "<Figure size 1000x600 with 15 Axes>"
      ]
     },
     "metadata": {},
     "output_type": "display_data"
    }
   ],
   "source": [
    "r, c = 3, 5\n",
    "fig = plt.figure(figsize=(2*c, 2*r))\n",
    "for _r in range(r):\n",
    "    for _c in range(c):\n",
    "        plt.subplot(r, c, _r*c + _c + 1)\n",
    "        ix = random.randint(0, len(X)-1)\n",
    "        plt.imshow(X[ix], cmap=\"gray\")\n",
    "        plt.axis(\"off\")\n",
    "        plt.title(Y[ix])\n",
    "plt.tight_layout()\n",
    "plt.show()"
   ]
  },
  {
   "cell_type": "code",
   "execution_count": 10,
   "metadata": {},
   "outputs": [
    {
     "data": {
      "text/plain": [
       "torch.Size([64, 10])"
      ]
     },
     "execution_count": 10,
     "metadata": {},
     "output_type": "execute_result"
    }
   ],
   "source": [
    "class CNN(nn.Module):\n",
    "    def __init__(self):\n",
    "        super(CNN, self).__init__()\n",
    "        self.conv1 = nn.Conv2d(1, 32, 3, padding=1)\n",
    "        self.conv2 = nn.Conv2d(32, 64, 3, padding=1)\n",
    "        self.pool = nn.MaxPool2d(2, 2)\n",
    "        self.fc1 = nn.Linear(64 * 7 * 7, 128)\n",
    "        self.fc2 = nn.Linear(128, 10)\n",
    "        self.dropout = nn.Dropout(0.5)\n",
    "\n",
    "    def forward(self, x):\n",
    "        x = self.pool(F.relu(self.conv1(x)))\n",
    "        x = self.pool(F.relu(self.conv2(x)))\n",
    "        x = x.view(-1, 64 * 7 * 7)\n",
    "        x = F.relu(self.fc1(x))\n",
    "        x = self.dropout(x)\n",
    "        x = self.fc2(x)\n",
    "        return x\n",
    "\n",
    "#model_compiled = torch.compile(model)  # optional (new in Pytorch 2.0)\n",
    "    \n",
    "model = CNN()\n",
    "outputs = model(torch.randn(64, 1, 28, 28))\n",
    "outputs.shape"
   ]
  },
  {
   "cell_type": "code",
   "execution_count": 19,
   "metadata": {},
   "outputs": [],
   "source": [
    "# ---- Dataset ----\n",
    "\n",
    "class Dataset(torch.utils.data.Dataset):\n",
    "\n",
    "    # Constructor\n",
    "    def __init__(self, X, Y):\n",
    "        self.X = torch.tensor(X).float()\n",
    "        self.Y = torch.tensor(Y).long()\n",
    "\n",
    "    # Number of samples in the dataset\n",
    "    def __len__(self):\n",
    "        return len(self.X)\n",
    "    \n",
    "    def __getitem__(self, ix):\n",
    "        return self.X[ix], self.Y[ix]\n",
    "    \n",
    "    # optional func to genereate every batch\n",
    "    def collate_fn(self, batch):\n",
    "        x, y = [], []\n",
    "        for _x, _y in batch:\n",
    "            x.append(_x.unsqueeze(0))\n",
    "            y.append(_y)\n",
    "        return torch.stack(x), torch.stack(y)  # images are flattened in a single vector    "
   ]
  },
  {
   "cell_type": "code",
   "execution_count": 20,
   "metadata": {},
   "outputs": [
    {
     "name": "stdout",
     "output_type": "stream",
     "text": [
      "Epoch 1/5\n",
      "loss: 2.3120 [  100/70000]\n",
      "loss: 0.3887 [10100/70000]\n",
      "loss: 0.3559 [20100/70000]\n",
      "loss: 0.1875 [30100/70000]\n",
      "loss: 0.1270 [40100/70000]\n",
      "loss: 0.1120 [50100/70000]\n",
      "loss: 0.0670 [60100/70000]\n",
      "Epoch 2/5\n",
      "loss: 0.1533 [  100/70000]\n",
      "loss: 0.1385 [10100/70000]\n",
      "loss: 0.1344 [20100/70000]\n",
      "loss: 0.1528 [30100/70000]\n",
      "loss: 0.0775 [40100/70000]\n",
      "loss: 0.0508 [50100/70000]\n",
      "loss: 0.0319 [60100/70000]\n",
      "Epoch 3/5\n",
      "loss: 0.0776 [  100/70000]\n",
      "loss: 0.0460 [10100/70000]\n",
      "loss: 0.1334 [20100/70000]\n",
      "loss: 0.1112 [30100/70000]\n",
      "loss: 0.0200 [40100/70000]\n",
      "loss: 0.0789 [50100/70000]\n",
      "loss: 0.0398 [60100/70000]\n",
      "Epoch 4/5\n",
      "loss: 0.0732 [  100/70000]\n",
      "loss: 0.0358 [10100/70000]\n",
      "loss: 0.0519 [20100/70000]\n",
      "loss: 0.0806 [30100/70000]\n",
      "loss: 0.0239 [40100/70000]\n",
      "loss: 0.0285 [50100/70000]\n",
      "loss: 0.0232 [60100/70000]\n",
      "Epoch 5/5\n",
      "loss: 0.0308 [  100/70000]\n",
      "loss: 0.1317 [10100/70000]\n",
      "loss: 0.0308 [20100/70000]\n",
      "loss: 0.1323 [30100/70000]\n",
      "loss: 0.0628 [40100/70000]\n",
      "loss: 0.0196 [50100/70000]\n",
      "loss: 0.0296 [60100/70000]\n"
     ]
    }
   ],
   "source": [
    "# ---- Taining ----\n",
    "\n",
    "dataset = Dataset(X, Y)\n",
    "dataloader = torch.utils.data.DataLoader(dataset, batch_size=100, collate_fn=dataset.collate_fn)\n",
    "\n",
    "model = CNN()\n",
    "\n",
    "criterion = torch.nn.CrossEntropyLoss()\n",
    "optimizer = torch.optim.Adam(model.parameters())\n",
    "\n",
    "epochs = 5\n",
    "for e in range(1, epochs+1):\n",
    "    print(f\"Epoch {e}/{epochs}\")\n",
    "    for batch_ix, (x, y) in enumerate(dataloader):\n",
    "        optimizer.zero_grad()           # reset gradients\n",
    "        outputs = model(x)              # forward pass\n",
    "        loss = criterion(outputs, y)    # compute loss\n",
    "        loss.backward()                 # backward pass\n",
    "        optimizer.step()                # update weights\n",
    "        if batch_ix % 100 == 0:\n",
    "            loss, current = loss.item(), (batch_ix + 1) * len(x)\n",
    "            print(f\"loss: {loss:.4f} [{current:>5d}/{len(dataset):>5d}]\")"
   ]
  },
  {
   "cell_type": "code",
   "execution_count": 21,
   "metadata": {},
   "outputs": [],
   "source": [
    "# ---- Exporting model ----\n",
    "\n",
    "torch.save(model, \"CNN_model.pth\")"
   ]
  },
  {
   "cell_type": "code",
   "execution_count": 22,
   "metadata": {},
   "outputs": [
    {
     "data": {
      "text/plain": [
       "CNN(\n",
       "  (conv1): Conv2d(1, 32, kernel_size=(3, 3), stride=(1, 1), padding=(1, 1))\n",
       "  (conv2): Conv2d(32, 64, kernel_size=(3, 3), stride=(1, 1), padding=(1, 1))\n",
       "  (pool): MaxPool2d(kernel_size=2, stride=2, padding=0, dilation=1, ceil_mode=False)\n",
       "  (fc1): Linear(in_features=3136, out_features=128, bias=True)\n",
       "  (fc2): Linear(in_features=128, out_features=10, bias=True)\n",
       "  (dropout): Dropout(p=0.5, inplace=False)\n",
       ")"
      ]
     },
     "execution_count": 22,
     "metadata": {},
     "output_type": "execute_result"
    }
   ],
   "source": [
    "loaded = torch.load(\"CNN_model.pth\")\n",
    "loaded"
   ]
  },
  {
   "cell_type": "code",
   "execution_count": 23,
   "metadata": {},
   "outputs": [
    {
     "data": {
      "text/plain": [
       "tensor([[-6.5784e+00, -2.8586e+00,  7.4895e-02, -6.9763e-01, -4.9381e-01,\n",
       "          9.8676e-01, -7.0054e-02, -2.6618e-01, -1.4250e+00, -5.4984e+00],\n",
       "        [-2.9363e+00,  2.7166e+00,  4.3399e+00,  2.6253e+00, -5.2474e+00,\n",
       "         -1.1090e+00, -3.3101e+00, -5.3500e-01, -5.9643e-01, -3.0832e+00],\n",
       "        [-9.0285e+00, -1.5666e+00, -3.5448e+00, -3.4715e+00,  2.6790e+00,\n",
       "          1.5627e+00, -6.8260e+00, -5.4332e-03, -6.3237e+00,  1.2853e-01],\n",
       "        [-6.1517e+00, -7.4054e+00, -1.4951e+00, -1.5462e+00,  8.3580e-01,\n",
       "          3.6482e+00,  1.2532e+00, -8.8389e+00, -1.2990e+00,  1.1521e+00],\n",
       "        [-4.8158e+00, -3.9473e+00, -4.5817e+00,  8.4836e-01, -6.6169e+00,\n",
       "          5.0942e+00, -8.6024e+00, -7.3478e+00,  9.0835e-01,  1.3359e+00],\n",
       "        [-8.7107e+00, -5.4422e+00, -7.4340e+00, -8.7226e+00,  1.2059e+00,\n",
       "          9.2284e+00,  5.6247e+00, -1.4987e+01,  7.4871e-02, -1.4538e+00],\n",
       "        [-3.9232e+00, -2.7586e-01,  9.2945e+00,  1.0501e+00, -7.4826e+00,\n",
       "         -3.2599e+00, -6.3194e+00, -1.1595e+01,  3.1834e+00, -3.5172e+00],\n",
       "        [-8.8919e+00, -5.3932e+00, -1.7601e+00,  1.1979e+00, -2.0348e+00,\n",
       "          1.2860e+00, -4.0585e+00, -1.7523e+00, -1.3614e+00,  4.6556e-01],\n",
       "        [-7.2765e+00, -6.6961e+00,  4.7399e-01,  9.1574e-01, -1.8525e+00,\n",
       "          3.7901e+00,  1.7187e+00, -9.5707e+00, -1.6785e+00, -2.0562e+00],\n",
       "        [-7.1116e+00,  1.0380e+00,  1.1590e+00,  8.1945e+00, -1.3768e+01,\n",
       "          1.6173e+00, -6.7667e+00,  1.4004e+00, -1.4246e+00, -7.9090e+00],\n",
       "        [ 1.0257e+00, -2.7296e+00, -1.3181e-01, -6.0922e-01,  1.0664e-01,\n",
       "          1.3719e+00, -9.8689e-01, -3.1420e+00, -2.0802e-01,  5.8466e-01],\n",
       "        [-1.5455e+00, -3.9002e+00, -2.7244e+00, -2.0337e+00, -5.7452e+00,\n",
       "          3.6103e+00, -1.5973e+00, -5.9640e+00,  4.5508e-01, -6.2201e+00],\n",
       "        [-7.6264e+00, -6.8508e+00, -1.6142e+00, -5.0282e+00, -1.8057e+00,\n",
       "          2.2509e+00, -6.6553e-01, -8.4355e+00, -2.6685e+00, -8.6665e-01],\n",
       "        [-7.6616e+00, -3.5817e+00,  4.9660e+00,  5.8168e-01, -5.0512e+00,\n",
       "         -6.1832e-01, -3.1289e+00, -4.4825e+00,  1.8522e+00, -3.8881e+00],\n",
       "        [-3.8824e+00,  6.2088e-01,  2.4023e+00, -2.2924e+00, -4.9262e+00,\n",
       "          1.6599e+00,  1.4535e+00, -6.1719e+00,  6.5566e-01, -2.6377e+00],\n",
       "        [-1.0167e+01, -8.4078e-01,  5.8651e+00,  1.2073e+00, -1.1866e+01,\n",
       "          3.9422e+00, -7.7396e+00,  5.8711e+00,  1.0147e+00, -1.2947e+01],\n",
       "        [-4.4669e+00, -1.3722e+00, -2.0986e+00, -2.3418e+00,  1.6824e+00,\n",
       "          2.6831e+00,  1.2460e+00, -7.7559e+00, -2.3134e+00, -1.8577e-01],\n",
       "        [-5.1830e+00,  3.2490e+00,  2.4418e+00, -1.1710e+00, -1.5946e+00,\n",
       "         -1.0710e+00, -1.8011e+00, -5.2273e-01, -7.1028e-01, -4.6030e+00],\n",
       "        [-5.9224e+00, -4.2275e+00,  7.9320e-01, -3.6881e+00, -3.1714e+00,\n",
       "          3.1548e+00,  3.3976e+00, -6.1855e+00,  6.5378e-01, -8.4471e+00],\n",
       "        [-6.8766e+00,  2.6500e+00,  7.5914e-01,  5.2541e-01, -6.3215e+00,\n",
       "          7.0550e-01,  2.6835e+00, -4.2450e+00, -2.0255e+00, -5.7838e+00],\n",
       "        [-8.2322e+00, -4.1940e+00, -6.2148e-01, -4.8764e+00, -3.4579e+00,\n",
       "          6.5018e+00,  3.2149e+00, -1.0355e+01,  6.3407e-01, -5.1841e+00],\n",
       "        [-8.1104e+00, -2.3254e+00,  3.3884e+00,  4.2083e+00, -8.8252e+00,\n",
       "         -5.3389e-01, -1.1021e+01,  3.8075e+00, -3.4934e+00, -3.9297e+00],\n",
       "        [-9.0287e+00,  1.3181e+00,  2.1415e+00,  2.4542e+00, -3.5844e+00,\n",
       "         -1.3741e+00, -6.7761e-01,  8.3012e-01, -3.4394e+00, -4.2151e+00],\n",
       "        [-5.5196e+00, -3.4668e+00,  6.0863e-01,  1.6721e+00, -2.9819e+00,\n",
       "          2.2474e+00,  1.0855e-01, -5.2896e+00,  1.0745e+00, -1.6994e+00],\n",
       "        [-5.7197e+00, -3.9435e+00,  5.8359e+00,  3.7290e+00, -1.1328e+01,\n",
       "          1.8190e+00, -7.6644e+00, -1.9515e+00,  8.8327e-01, -6.6700e+00],\n",
       "        [-1.0186e+01, -1.7416e+00,  1.5276e-01, -4.2927e+00, -3.3006e+00,\n",
       "          4.1794e+00, -1.9903e-02, -1.1385e+00, -4.0976e-01, -6.4643e+00],\n",
       "        [-4.4780e+00, -3.6243e-01,  3.4200e+00,  2.8732e+00, -5.1285e+00,\n",
       "         -5.0798e+00, -5.6356e+00,  5.5500e+00, -1.9991e+00, -3.5430e+00],\n",
       "        [-2.0307e+00, -7.6235e+00, -1.3459e+00,  1.6683e+00, -5.7715e+00,\n",
       "          3.0114e+00, -4.6645e+00, -6.4180e+00, -3.7273e+00, -1.4837e+00],\n",
       "        [-8.5044e+00, -1.7118e+00,  4.2579e-01, -3.9648e+00, -3.2449e+00,\n",
       "          2.2601e+00,  1.8575e-01, -5.5439e+00,  2.2932e+00, -3.0951e+00],\n",
       "        [-3.6124e+00,  2.7222e+00,  9.9959e+00, -3.5425e+00, -2.6015e+00,\n",
       "         -6.8905e+00, -7.3945e+00, -2.1945e+00, -1.1698e+00, -5.2799e+00],\n",
       "        [-4.6212e+00, -4.7994e+00, -3.0148e+00,  3.2206e+00, -1.1842e+00,\n",
       "          9.5386e-01, -2.4102e+00, -3.1705e+00, -6.8207e+00,  2.2384e+00],\n",
       "        [-4.0188e+00, -5.1136e+00, -1.2855e+00, -3.6066e+00, -3.8737e+00,\n",
       "          2.9212e-03, -2.1554e+00, -3.3618e+00,  9.8703e-01, -2.9404e+00],\n",
       "        [-4.4544e+00, -3.1891e+00,  1.0038e+00, -1.2921e+00, -6.8229e-01,\n",
       "          1.0880e+00,  6.9442e-01, -4.1139e+00, -8.8874e-01, -2.5478e+00],\n",
       "        [-7.4883e+00, -1.5379e+00,  2.6603e-01, -1.6975e+00, -9.6675e-01,\n",
       "         -4.2665e+00, -5.2328e+00, -1.9360e+00, -1.3594e-02,  2.0478e+00],\n",
       "        [-7.0364e+00, -4.9060e+00, -2.6440e+00, -2.9095e+00, -1.5096e+00,\n",
       "          4.9430e+00,  3.3713e+00, -9.8342e+00, -8.6360e-02, -1.7669e+00],\n",
       "        [-9.4191e+00, -1.0883e+01, -5.8963e+00,  3.3615e+00, -5.0099e-02,\n",
       "          3.8707e+00, -3.3367e+00, -2.4585e+00, -5.9132e+00, -3.5040e+00],\n",
       "        [-9.9920e+00, -2.7915e+00,  3.3063e-01,  3.7469e+00, -3.8027e+00,\n",
       "          4.7734e+00, -5.0231e+00, -2.7930e+00, -1.2373e+00, -1.3859e+00],\n",
       "        [-7.2496e+00, -3.6119e+00, -2.2678e+00,  1.2647e+00,  3.0281e+00,\n",
       "          1.0982e+00, -7.7438e-01, -2.4476e+00, -3.8893e+00,  8.8716e-01],\n",
       "        [-7.4351e+00,  2.8609e+00,  1.8778e+00,  4.0820e-01, -4.8552e+00,\n",
       "          1.9585e-01, -2.4883e+00, -4.2657e+00, -7.4974e-01, -1.6793e+00],\n",
       "        [-8.5572e+00, -4.2962e+00, -3.8195e+00,  6.1789e-01, -2.0239e+00,\n",
       "          3.1349e+00, -6.9907e+00, -2.0070e+00, -4.2081e+00,  1.8060e+00],\n",
       "        [-8.0675e+00, -2.7544e+00, -5.9845e+00,  5.1322e+00, -2.4826e+00,\n",
       "          8.0864e-01, -2.7020e+00, -7.8870e+00, -2.3318e+00, -3.2274e+00],\n",
       "        [-5.3662e+00,  8.5360e-02,  3.0897e+00,  2.1691e+00, -3.4609e+00,\n",
       "         -2.4867e+00, -1.2308e+00,  2.4046e+00,  1.3361e+00, -5.3796e+00],\n",
       "        [-6.3377e+00,  5.1450e-01, -3.0815e+00, -2.7432e-01,  3.5139e-01,\n",
       "         -2.0923e+00,  9.3599e-01, -9.1898e-01, -1.1880e+00, -8.2727e-01],\n",
       "        [-6.7023e+00,  1.6042e+00,  4.2419e+00, -1.3241e+00,  6.7737e-01,\n",
       "         -6.4823e+00, -3.9578e-01, -1.4514e+00, -2.1887e+00, -3.7854e+00],\n",
       "        [-5.7713e+00, -3.7547e+00,  3.9146e+00, -3.6645e+00, -1.0793e+01,\n",
       "          2.6905e+00,  6.1410e+00, -7.6212e+00,  3.2854e+00, -1.6515e+01],\n",
       "        [-9.3554e+00, -5.8344e+00, -1.2968e+00,  4.1866e+00, -1.6402e+00,\n",
       "          1.4475e+00, -4.9509e+00, -1.0338e+01, -6.4977e+00, -2.2192e-01],\n",
       "        [-4.2127e+00, -2.2631e+00, -3.3877e-01,  5.1240e+00, -6.5458e+00,\n",
       "          4.3241e-01, -6.7602e+00, -1.6246e-01, -1.2141e+00, -2.8398e-01],\n",
       "        [-4.8081e+00, -6.4511e+00,  1.1195e-01,  1.0535e+00, -5.3874e+00,\n",
       "          2.3767e+00, -2.9372e+00, -6.1891e+00,  5.4087e-01, -1.8496e+00],\n",
       "        [-5.5769e+00, -4.5940e+00,  2.0095e+00, -3.1736e+00,  1.3552e+00,\n",
       "         -7.0244e-01, -6.9528e-01, -5.2547e+00, -5.8771e-01,  3.0602e-01],\n",
       "        [-7.2251e+00, -7.8008e-01,  1.8508e+00,  9.0667e-01, -5.5022e+00,\n",
       "          1.1648e+00, -1.2655e+00, -3.8527e+00,  1.6140e+00, -5.3012e+00],\n",
       "        [-8.1966e+00, -4.4643e+00,  5.2344e+00, -1.7503e+01,  8.2835e-01,\n",
       "          7.4010e-01,  4.3661e+00, -1.6730e+01, -7.5623e-01, -1.0438e+01],\n",
       "        [-2.5616e+00,  2.2910e+00,  4.0231e+00, -8.4021e-01, -5.3242e+00,\n",
       "         -1.5468e+00,  9.1502e-01, -5.0716e+00,  1.8671e+00, -4.0465e+00],\n",
       "        [-2.4903e+00, -2.4572e+00, -2.2602e+00,  1.9927e+00, -5.3448e+00,\n",
       "          5.1811e+00, -5.5498e+00, -8.1465e-01, -2.3968e+00, -1.2887e-01],\n",
       "        [-4.5290e-01, -1.9305e+00,  1.5397e+00,  1.5674e+00, -2.7697e+00,\n",
       "          7.6847e-01, -5.7055e+00, -3.8162e+00, -1.1180e+00, -3.1509e-01],\n",
       "        [-5.5908e+00,  8.7708e-01,  5.6373e+00,  1.0023e+00, -2.5754e+00,\n",
       "         -1.2613e+00, -6.6746e+00, -5.8771e+00, -2.5624e+00, -4.8681e+00],\n",
       "        [-7.1240e+00, -1.5019e+00,  1.0590e-01, -3.8237e+00, -3.7733e-01,\n",
       "          4.8866e-01,  2.4924e+00, -5.3203e+00,  1.4811e+00, -3.4325e+00],\n",
       "        [-3.2846e+00, -3.3258e+00,  1.2937e+00, -2.8413e+00,  6.0450e-01,\n",
       "         -9.8145e-01, -4.8090e-01, -2.8652e+00, -1.6603e+00,  6.3833e-01],\n",
       "        [-8.4893e+00, -7.1367e+00, -5.8200e+00, -6.6815e+00, -4.7991e+00,\n",
       "          9.9038e+00,  4.3905e+00, -1.7623e+01,  4.3892e+00, -4.3631e+00],\n",
       "        [-6.0998e+00, -1.5373e+00,  1.0415e+01, -9.1384e-01, -4.6028e+00,\n",
       "         -2.3634e+00, -3.0965e-01, -7.0818e+00,  6.6468e-02, -7.1742e+00],\n",
       "        [-7.0007e+00, -4.0571e+00,  1.7481e+00,  3.9145e+00, -1.9616e+00,\n",
       "         -4.1443e+00, -6.0480e+00, -9.1413e-01, -4.6707e+00,  1.0015e+00],\n",
       "        [-1.2548e+01, -8.0728e+00, -3.7232e+00, -2.5337e-02, -1.0156e+00,\n",
       "          1.7945e+00,  3.7363e-01, -3.0958e+00, -4.7361e+00, -5.2748e+00],\n",
       "        [-1.0188e+01, -3.7676e+00,  8.9645e-01,  8.0652e-01, -2.9546e+00,\n",
       "          4.5008e+00, -3.2270e+00, -6.1715e+00,  1.8571e+00, -2.3335e+00],\n",
       "        [-1.0006e+01, -1.9386e+00,  1.9791e+00,  5.8778e+00, -1.3688e+01,\n",
       "         -3.6785e-01,  2.5989e+00, -1.9862e+00,  2.1564e+00, -1.8856e+01],\n",
       "        [-1.1796e+01, -6.1430e+00, -4.9519e+00,  1.6038e+00,  3.8995e+00,\n",
       "         -5.9617e-02, -6.6655e+00,  4.8896e+00, -4.1741e+00, -9.4050e-01]],\n",
       "       grad_fn=<AddmmBackward0>)"
      ]
     },
     "execution_count": 23,
     "metadata": {},
     "output_type": "execute_result"
    }
   ],
   "source": [
    "loaded(torch.randn(64, 1, 28, 28))"
   ]
  },
  {
   "cell_type": "code",
   "execution_count": null,
   "metadata": {},
   "outputs": [],
   "source": []
  }
 ],
 "metadata": {
  "kernelspec": {
   "display_name": "venv",
   "language": "python",
   "name": "python3"
  },
  "language_info": {
   "codemirror_mode": {
    "name": "ipython",
    "version": 3
   },
   "file_extension": ".py",
   "mimetype": "text/x-python",
   "name": "python",
   "nbconvert_exporter": "python",
   "pygments_lexer": "ipython3",
   "version": "3.11.0"
  },
  "orig_nbformat": 4
 },
 "nbformat": 4,
 "nbformat_minor": 2
}
