{
 "cells": [
  {
   "cell_type": "code",
   "execution_count": 2,
   "metadata": {},
   "outputs": [],
   "source": [
    "import numpy as np\n",
    "import random\n",
    "import os\n",
    "import matplotlib.pyplot as plt\n",
    "import torch\n",
    "import torch.nn as nn\n",
    "from torch.utils.data import DataLoader, random_split\n",
    "from sklearn.datasets import fetch_openml\n",
    "from sklearn.model_selection import KFold"
   ]
  },
  {
   "cell_type": "code",
   "execution_count": 4,
   "metadata": {},
   "outputs": [
    {
     "data": {
      "text/plain": [
       "((70000, 28, 28), (70000,))"
      ]
     },
     "execution_count": 4,
     "metadata": {},
     "output_type": "execute_result"
    }
   ],
   "source": [
    "# ---- Data ----\n",
    "\n",
    "if not os.path.exists(\"train_data\"):\n",
    "    os.mkdir(\"train_data\")\n",
    "    mnist = fetch_openml(\"mnist_784\", version=1)\n",
    "    X, y = mnist[\"data\"].values.astype(float).reshape(-1, 28, 28) / 255., mnist[\"target\"].values.astype(int)\n",
    "    np.savez_compressed(\"data/mnist.npz\", X=X, y=y)\n",
    "\n",
    "X, Y = np.load(\"train_data/mnist.npz\").values()\n",
    "\n",
    "X.shape, Y.shape"
   ]
  },
  {
   "cell_type": "code",
   "execution_count": 5,
   "metadata": {},
   "outputs": [
    {
     "data": {
      "image/png": "[encoded data removed]",
      "text/plain": [
       "<Figure size 1000x600 with 15 Axes>"
      ]
     },
     "metadata": {},
     "output_type": "display_data"
    }
   ],
   "source": [
    "r, c = 3, 5\n",
    "fig = plt.figure(figsize=(2*c, 2*r))\n",
    "for _r in range(r):\n",
    "    for _c in range(c):\n",
    "        plt.subplot(r, c, _r*c + _c + 1)\n",
    "        ix = random.randint(0, len(X)-1)\n",
    "        plt.imshow(X[ix], cmap=\"gray\")\n",
    "        plt.axis(\"off\")\n",
    "        plt.title(Y[ix])\n",
    "plt.tight_layout()\n",
    "plt.show()"
   ]
  },
  {
   "cell_type": "code",
   "execution_count": 7,
   "metadata": {},
   "outputs": [
    {
     "data": {
      "text/plain": [
       "torch.Size([64, 10])"
      ]
     },
     "execution_count": 7,
     "metadata": {},
     "output_type": "execute_result"
    }
   ],
   "source": [
    "class MLP(torch.nn.Module):\n",
    "\n",
    "    # Constructor\n",
    "    def __init__(self, D_i=784, H=100, D_out=10):\n",
    "\n",
    "        # Super constructor\n",
    "        super(MLP, self).__init__()\n",
    "\n",
    "        # Layers\n",
    "        self.fc1 = torch.nn.Linear(D_i, H)\n",
    "        self.relu = torch.nn.ReLU()\n",
    "        self.fc2 = torch.nn.Linear(H, D_out)\n",
    "\n",
    "    # Forward pass\n",
    "    def forward(self, x):\n",
    "        x = self.fc1(x)\n",
    "        x = self.relu(x)\n",
    "        x = self.fc2(x)\n",
    "        return x\n",
    "\n",
    "#model_compiled = torch.compile(model)  # optional (new in Pytorch 2.0)\n",
    "    \n",
    "model = MLP(784, 100, 10)\n",
    "outputs = model(torch.randn(64, 784))\n",
    "outputs.shape"
   ]
  },
  {
   "cell_type": "code",
   "execution_count": 6,
   "metadata": {},
   "outputs": [],
   "source": [
    "# ---- Dataset ----\n",
    "\n",
    "class Dataset(torch.utils.data.Dataset):\n",
    "\n",
    "    # Constructor\n",
    "    def __init__(self, X, Y):\n",
    "        self.X = torch.tensor(X).float()\n",
    "        self.Y = torch.tensor(Y).long()\n",
    "\n",
    "    # Number of samples in the dataset\n",
    "    def __len__(self):\n",
    "        return len(self.X)\n",
    "    \n",
    "    def __getitem__(self, ix):\n",
    "        return self.X[ix], self.Y[ix]\n",
    "    \n",
    "    # optional func to genereate every batch\n",
    "    def collate_fn(self, batch):\n",
    "        x, y = [], []\n",
    "        for _x, _y in batch:\n",
    "            x.append(_x)\n",
    "            y.append(_y)\n",
    "        return torch.stack(x).view(len(batch), -1), torch.stack(y)  # images are flattened in a single vector    "
   ]
  },
  {
   "cell_type": "code",
   "execution_count": 8,
   "metadata": {},
   "outputs": [
    {
     "name": "stdout",
     "output_type": "stream",
     "text": [
      "Epoch 1/5\n",
      "loss: 2.3102 [  100/70000]\n",
      "loss: 0.4700 [10100/70000]\n",
      "loss: 0.4873 [20100/70000]\n",
      "loss: 0.3398 [30100/70000]\n",
      "loss: 0.2537 [40100/70000]\n",
      "loss: 0.2783 [50100/70000]\n",
      "loss: 0.1588 [60100/70000]\n",
      "Epoch 2/5\n",
      "loss: 0.1743 [  100/70000]\n",
      "loss: 0.2198 [10100/70000]\n",
      "loss: 0.2446 [20100/70000]\n",
      "loss: 0.1904 [30100/70000]\n",
      "loss: 0.1497 [40100/70000]\n",
      "loss: 0.1437 [50100/70000]\n",
      "loss: 0.0949 [60100/70000]\n",
      "Epoch 3/5\n",
      "loss: 0.1174 [  100/70000]\n",
      "loss: 0.1609 [10100/70000]\n",
      "loss: 0.1659 [20100/70000]\n",
      "loss: 0.1574 [30100/70000]\n",
      "loss: 0.1045 [40100/70000]\n",
      "loss: 0.0905 [50100/70000]\n",
      "loss: 0.0644 [60100/70000]\n",
      "Epoch 4/5\n",
      "loss: 0.0976 [  100/70000]\n",
      "loss: 0.1203 [10100/70000]\n",
      "loss: 0.1238 [20100/70000]\n",
      "loss: 0.1352 [30100/70000]\n",
      "loss: 0.0913 [40100/70000]\n",
      "loss: 0.0637 [50100/70000]\n",
      "loss: 0.0362 [60100/70000]\n",
      "Epoch 5/5\n",
      "loss: 0.0847 [  100/70000]\n",
      "loss: 0.0899 [10100/70000]\n",
      "loss: 0.0986 [20100/70000]\n",
      "loss: 0.1204 [30100/70000]\n",
      "loss: 0.0757 [40100/70000]\n",
      "loss: 0.0493 [50100/70000]\n",
      "loss: 0.0210 [60100/70000]\n"
     ]
    }
   ],
   "source": [
    "# ---- Taining ----\n",
    "\n",
    "dataset = Dataset(X, Y)\n",
    "dataloader = torch.utils.data.DataLoader(dataset, batch_size=100, collate_fn=dataset.collate_fn)\n",
    "\n",
    "model = MLP(784, 100, 10)\n",
    "\n",
    "criterion = torch.nn.CrossEntropyLoss()\n",
    "optimizer = torch.optim.Adam(model.parameters())\n",
    "\n",
    "epochs = 5\n",
    "for e in range(1, epochs+1):\n",
    "    print(f\"Epoch {e}/{epochs}\")\n",
    "    for batch_ix, (x, y) in enumerate(dataloader):\n",
    "        optimizer.zero_grad()           # reset gradients\n",
    "        outputs = model(x)              # forward pass\n",
    "        loss = criterion(outputs, y)    # compute loss\n",
    "        loss.backward()                 # backward pass\n",
    "        optimizer.step()                # update weights\n",
    "        if batch_ix % 100 == 0:\n",
    "            loss, current = loss.item(), (batch_ix + 1) * len(x)\n",
    "            print(f\"loss: {loss:.4f} [{current:>5d}/{len(dataset):>5d}]\")"
   ]
  },
  {
   "cell_type": "code",
   "execution_count": 9,
   "metadata": {},
   "outputs": [],
   "source": [
    "# ---- Exporting model ----\n",
    "\n",
    "torch.save(model, \"model.pth\")"
   ]
  },
  {
   "cell_type": "code",
   "execution_count": 10,
   "metadata": {},
   "outputs": [
    {
     "data": {
      "text/plain": [
       "MLP(\n",
       "  (fc1): Linear(in_features=784, out_features=100, bias=True)\n",
       "  (relu): ReLU()\n",
       "  (fc2): Linear(in_features=100, out_features=10, bias=True)\n",
       ")"
      ]
     },
     "execution_count": 10,
     "metadata": {},
     "output_type": "execute_result"
    }
   ],
   "source": [
    "loaded = torch.load(\"model.pth\")\n",
    "loaded"
   ]
  },
  {
   "cell_type": "code",
   "execution_count": null,
   "metadata": {},
   "outputs": [],
   "source": []
  },
  {
   "cell_type": "code",
   "execution_count": null,
   "metadata": {},
   "outputs": [],
   "source": []
  },
  {
   "cell_type": "code",
   "execution_count": null,
   "metadata": {},
   "outputs": [],
   "source": [
    "batch_size = 100\n",
    "num_folds = 5\n",
    "device = torch.device(\"cuda\" if torch.cuda.is_available() else \"cpu\")\n",
    "\n",
    "\n",
    "def validate(model, val_loader, criterion):\n",
    "    model.eval()\n",
    "    total_loss = 0.0\n",
    "    correct = 0\n",
    "    with torch.no_grad():\n",
    "        for images, labels in val_loader:\n",
    "            images, labels = images.to(device), labels.to(device)\n",
    "            outputs = model(images)\n",
    "            loss = criterion(outputs, labels)\n",
    "            total_loss += loss.item() * images.size(0)\n",
    "            _, predicted = outputs.max(1)\n",
    "            correct += predicted.eq(labels).sum().item()\n",
    "    accuracy = correct / len(val_loader.dataset)\n",
    "    return total_loss / len(val_loader.dataset), accuracy\n",
    "\n",
    "# Implement k-fold cross-validation\n",
    "kf = KFold(n_splits=num_folds)\n",
    "for fold, (train_indices, val_indices) in enumerate(kf.split(mnist_data)):\n",
    "    print(f\"Fold {fold+1}\")\n",
    "    train_dataset = torch.utils.data.Subset(mnist_data, train_indices)\n",
    "    val_dataset = torch.utils.data.Subset(mnist_data, val_indices)\n",
    "    \n",
    "    train_loader = DataLoader(train_dataset, batch_size=batch_size, shuffle=True)\n",
    "    val_loader = DataLoader(val_dataset, batch_size=batch_size, shuffle=False)\n",
    "\n",
    "    model = MLP().to(device)\n",
    "    criterion = nn.CrossEntropyLoss()\n",
    "    optimizer = torch.optim.Adam(model.parameters(), lr=0.001)\n",
    "\n",
    "    num_epochs = 10\n",
    "    for epoch in range(num_epochs):\n",
    "        train_loss = train(model, train_loader, criterion, optimizer)\n",
    "        val_loss, val_accuracy = validate(model, val_loader, criterion)\n",
    "\n",
    "        print(f\"Epoch {epoch+1}/{num_epochs}\")\n",
    "        print(f\"Train Loss: {train_loss:.4f}\")\n",
    "        print(f\"Validation Loss: {val_loss:.4f}\")\n",
    "        print(f\"Validation Accuracy: {val_accuracy*100:.2f}%\")\n",
    "    print(\"-\"*30)"
   ]
  }
 ],
 "metadata": {
  "kernelspec": {
   "display_name": "venv",
   "language": "python",
   "name": "python3"
  },
  "language_info": {
   "codemirror_mode": {
    "name": "ipython",
    "version": 3
   },
   "file_extension": ".py",
   "mimetype": "text/x-python",
   "name": "python",
   "nbconvert_exporter": "python",
   "pygments_lexer": "ipython3",
   "version": "3.11.0"
  },
  "orig_nbformat": 4
 },
 "nbformat": 4,
 "nbformat_minor": 2
}
